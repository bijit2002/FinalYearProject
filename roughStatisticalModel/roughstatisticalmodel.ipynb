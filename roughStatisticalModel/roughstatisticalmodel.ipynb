{
 "cells": [
  {
   "cell_type": "markdown",
   "metadata": {},
   "source": [
    "## Imports"
   ]
  },
  {
   "cell_type": "code",
   "execution_count": 1,
   "metadata": {},
   "outputs": [],
   "source": [
    "import pandas as pd\n",
    "import numpy as np\n",
    "import matplotlib.pyplot as plt\n",
    "import seaborn as sns\n",
    "import playmaker"
   ]
  },
  {
   "cell_type": "markdown",
   "metadata": {},
   "source": [
    "## Obtaining the data"
   ]
  },
  {
   "cell_type": "code",
   "execution_count": 2,
   "metadata": {},
   "outputs": [],
   "source": [
    "url = 'https://raw.githubusercontent.com/BIKRAM-SAHA/FinalYearProject/main/datasets/EPL_20_21.csv'\n",
    "df = pd.read_csv(url)"
   ]
  },
  {
   "cell_type": "markdown",
   "metadata": {},
   "source": [
    "## Examining the data"
   ]
  },
  {
   "cell_type": "code",
   "execution_count": 3,
   "metadata": {},
   "outputs": [
    {
     "data": {
      "text/plain": [
       "(532, 18)"
      ]
     },
     "execution_count": 3,
     "metadata": {},
     "output_type": "execute_result"
    }
   ],
   "source": [
    "df.shape    #Shape of Dataframe"
   ]
  },
  {
   "cell_type": "code",
   "execution_count": 4,
   "metadata": {},
   "outputs": [
    {
     "data": {
      "text/html": [
       "<div>\n",
       "<style scoped>\n",
       "    .dataframe tbody tr th:only-of-type {\n",
       "        vertical-align: middle;\n",
       "    }\n",
       "\n",
       "    .dataframe tbody tr th {\n",
       "        vertical-align: top;\n",
       "    }\n",
       "\n",
       "    .dataframe thead th {\n",
       "        text-align: right;\n",
       "    }\n",
       "</style>\n",
       "<table border=\"1\" class=\"dataframe\">\n",
       "  <thead>\n",
       "    <tr style=\"text-align: right;\">\n",
       "      <th></th>\n",
       "      <th>Name</th>\n",
       "      <th>Club</th>\n",
       "      <th>Nationality</th>\n",
       "      <th>Position</th>\n",
       "      <th>Age</th>\n",
       "      <th>Matches</th>\n",
       "      <th>Starts</th>\n",
       "      <th>Mins</th>\n",
       "      <th>Goals</th>\n",
       "      <th>Assists</th>\n",
       "      <th>Passes_Attempted</th>\n",
       "      <th>Perc_Passes_Completed</th>\n",
       "      <th>Penalty_Goals</th>\n",
       "      <th>Penalty_Attempted</th>\n",
       "      <th>xG</th>\n",
       "      <th>xA</th>\n",
       "      <th>Yellow_Cards</th>\n",
       "      <th>Red_Cards</th>\n",
       "    </tr>\n",
       "  </thead>\n",
       "  <tbody>\n",
       "    <tr>\n",
       "      <th>0</th>\n",
       "      <td>Mason Mount</td>\n",
       "      <td>Chelsea</td>\n",
       "      <td>ENG</td>\n",
       "      <td>MF,FW</td>\n",
       "      <td>21</td>\n",
       "      <td>36</td>\n",
       "      <td>32</td>\n",
       "      <td>2890</td>\n",
       "      <td>6</td>\n",
       "      <td>5</td>\n",
       "      <td>1881</td>\n",
       "      <td>82.3</td>\n",
       "      <td>1</td>\n",
       "      <td>1</td>\n",
       "      <td>0.21</td>\n",
       "      <td>0.24</td>\n",
       "      <td>2</td>\n",
       "      <td>0</td>\n",
       "    </tr>\n",
       "    <tr>\n",
       "      <th>1</th>\n",
       "      <td>Edouard Mendy</td>\n",
       "      <td>Chelsea</td>\n",
       "      <td>SEN</td>\n",
       "      <td>GK</td>\n",
       "      <td>28</td>\n",
       "      <td>31</td>\n",
       "      <td>31</td>\n",
       "      <td>2745</td>\n",
       "      <td>0</td>\n",
       "      <td>0</td>\n",
       "      <td>1007</td>\n",
       "      <td>84.6</td>\n",
       "      <td>0</td>\n",
       "      <td>0</td>\n",
       "      <td>0.00</td>\n",
       "      <td>0.00</td>\n",
       "      <td>2</td>\n",
       "      <td>0</td>\n",
       "    </tr>\n",
       "    <tr>\n",
       "      <th>2</th>\n",
       "      <td>Timo Werner</td>\n",
       "      <td>Chelsea</td>\n",
       "      <td>GER</td>\n",
       "      <td>FW</td>\n",
       "      <td>24</td>\n",
       "      <td>35</td>\n",
       "      <td>29</td>\n",
       "      <td>2602</td>\n",
       "      <td>6</td>\n",
       "      <td>8</td>\n",
       "      <td>826</td>\n",
       "      <td>77.2</td>\n",
       "      <td>0</td>\n",
       "      <td>0</td>\n",
       "      <td>0.41</td>\n",
       "      <td>0.21</td>\n",
       "      <td>2</td>\n",
       "      <td>0</td>\n",
       "    </tr>\n",
       "    <tr>\n",
       "      <th>3</th>\n",
       "      <td>Ben Chilwell</td>\n",
       "      <td>Chelsea</td>\n",
       "      <td>ENG</td>\n",
       "      <td>DF</td>\n",
       "      <td>23</td>\n",
       "      <td>27</td>\n",
       "      <td>27</td>\n",
       "      <td>2286</td>\n",
       "      <td>3</td>\n",
       "      <td>5</td>\n",
       "      <td>1806</td>\n",
       "      <td>78.6</td>\n",
       "      <td>0</td>\n",
       "      <td>0</td>\n",
       "      <td>0.10</td>\n",
       "      <td>0.11</td>\n",
       "      <td>3</td>\n",
       "      <td>0</td>\n",
       "    </tr>\n",
       "    <tr>\n",
       "      <th>4</th>\n",
       "      <td>Reece James</td>\n",
       "      <td>Chelsea</td>\n",
       "      <td>ENG</td>\n",
       "      <td>DF</td>\n",
       "      <td>20</td>\n",
       "      <td>32</td>\n",
       "      <td>25</td>\n",
       "      <td>2373</td>\n",
       "      <td>1</td>\n",
       "      <td>2</td>\n",
       "      <td>1987</td>\n",
       "      <td>85.0</td>\n",
       "      <td>0</td>\n",
       "      <td>0</td>\n",
       "      <td>0.06</td>\n",
       "      <td>0.12</td>\n",
       "      <td>3</td>\n",
       "      <td>0</td>\n",
       "    </tr>\n",
       "  </tbody>\n",
       "</table>\n",
       "</div>"
      ],
      "text/plain": [
       "            Name     Club Nationality Position  Age  Matches  Starts  Mins  \\\n",
       "0    Mason Mount  Chelsea         ENG    MF,FW   21       36      32  2890   \n",
       "1  Edouard Mendy  Chelsea         SEN       GK   28       31      31  2745   \n",
       "2    Timo Werner  Chelsea         GER       FW   24       35      29  2602   \n",
       "3   Ben Chilwell  Chelsea         ENG       DF   23       27      27  2286   \n",
       "4    Reece James  Chelsea         ENG       DF   20       32      25  2373   \n",
       "\n",
       "   Goals  Assists  Passes_Attempted  Perc_Passes_Completed  Penalty_Goals  \\\n",
       "0      6        5              1881                   82.3              1   \n",
       "1      0        0              1007                   84.6              0   \n",
       "2      6        8               826                   77.2              0   \n",
       "3      3        5              1806                   78.6              0   \n",
       "4      1        2              1987                   85.0              0   \n",
       "\n",
       "   Penalty_Attempted    xG    xA  Yellow_Cards  Red_Cards  \n",
       "0                  1  0.21  0.24             2          0  \n",
       "1                  0  0.00  0.00             2          0  \n",
       "2                  0  0.41  0.21             2          0  \n",
       "3                  0  0.10  0.11             3          0  \n",
       "4                  0  0.06  0.12             3          0  "
      ]
     },
     "execution_count": 4,
     "metadata": {},
     "output_type": "execute_result"
    }
   ],
   "source": [
    "df.head()"
   ]
  },
  {
   "cell_type": "code",
   "execution_count": 5,
   "metadata": {},
   "outputs": [
    {
     "data": {
      "text/plain": [
       "['Name',\n",
       " 'Club',\n",
       " 'Nationality',\n",
       " 'Position',\n",
       " 'Age',\n",
       " 'Matches',\n",
       " 'Starts',\n",
       " 'Mins',\n",
       " 'Goals',\n",
       " 'Assists',\n",
       " 'Passes_Attempted',\n",
       " 'Perc_Passes_Completed',\n",
       " 'Penalty_Goals',\n",
       " 'Penalty_Attempted',\n",
       " 'xG',\n",
       " 'xA',\n",
       " 'Yellow_Cards',\n",
       " 'Red_Cards']"
      ]
     },
     "execution_count": 5,
     "metadata": {},
     "output_type": "execute_result"
    }
   ],
   "source": [
    "list(df.columns.values)"
   ]
  },
  {
   "cell_type": "code",
   "execution_count": 6,
   "metadata": {},
   "outputs": [],
   "source": [
    "#Generating additional passing data\n",
    "\n",
    "df = df.assign(Accurate_Passes = df.Passes_Attempted * df.Perc_Passes_Completed)\n",
    "df = df.assign(Inaccurate_Passes = df.Passes_Attempted * (100 - df.Perc_Passes_Completed))"
   ]
  },
  {
   "cell_type": "code",
   "execution_count": 7,
   "metadata": {},
   "outputs": [
    {
     "data": {
      "text/plain": [
       "['Name',\n",
       " 'Club',\n",
       " 'Nationality',\n",
       " 'Position',\n",
       " 'Age',\n",
       " 'Matches',\n",
       " 'Starts',\n",
       " 'Mins',\n",
       " 'Goals',\n",
       " 'Assists',\n",
       " 'Passes_Attempted',\n",
       " 'Perc_Passes_Completed',\n",
       " 'Penalty_Goals',\n",
       " 'Penalty_Attempted',\n",
       " 'xG',\n",
       " 'xA',\n",
       " 'Yellow_Cards',\n",
       " 'Red_Cards',\n",
       " 'Accurate_Passes',\n",
       " 'Inaccurate_Passes']"
      ]
     },
     "execution_count": 7,
     "metadata": {},
     "output_type": "execute_result"
    }
   ],
   "source": [
    "list(df.columns.values)"
   ]
  },
  {
   "cell_type": "code",
   "execution_count": 8,
   "metadata": {},
   "outputs": [
    {
     "data": {
      "text/plain": [
       "array(['MF,FW', 'GK', 'FW', 'DF', 'MF', 'FW,MF', 'FW,DF', 'DF,MF',\n",
       "       'MF,DF', 'DF,FW'], dtype=object)"
      ]
     },
     "execution_count": 8,
     "metadata": {},
     "output_type": "execute_result"
    }
   ],
   "source": [
    "df['Position'].unique()     #Looking at all unique combinations of positions present in the data"
   ]
  },
  {
   "cell_type": "markdown",
   "metadata": {},
   "source": [
    "## Sorting into positions"
   ]
  },
  {
   "cell_type": "code",
   "execution_count": 9,
   "metadata": {},
   "outputs": [],
   "source": [
    "defenders = df.loc[df.Position.str.contains(\"DF\")]"
   ]
  },
  {
   "cell_type": "code",
   "execution_count": 10,
   "metadata": {},
   "outputs": [
    {
     "data": {
      "text/html": [
       "<div>\n",
       "<style scoped>\n",
       "    .dataframe tbody tr th:only-of-type {\n",
       "        vertical-align: middle;\n",
       "    }\n",
       "\n",
       "    .dataframe tbody tr th {\n",
       "        vertical-align: top;\n",
       "    }\n",
       "\n",
       "    .dataframe thead th {\n",
       "        text-align: right;\n",
       "    }\n",
       "</style>\n",
       "<table border=\"1\" class=\"dataframe\">\n",
       "  <thead>\n",
       "    <tr style=\"text-align: right;\">\n",
       "      <th></th>\n",
       "      <th>Name</th>\n",
       "      <th>Club</th>\n",
       "      <th>Nationality</th>\n",
       "      <th>Position</th>\n",
       "      <th>Age</th>\n",
       "      <th>Matches</th>\n",
       "      <th>Starts</th>\n",
       "      <th>Mins</th>\n",
       "      <th>Goals</th>\n",
       "      <th>Assists</th>\n",
       "      <th>Passes_Attempted</th>\n",
       "      <th>Perc_Passes_Completed</th>\n",
       "      <th>Penalty_Goals</th>\n",
       "      <th>Penalty_Attempted</th>\n",
       "      <th>xG</th>\n",
       "      <th>xA</th>\n",
       "      <th>Yellow_Cards</th>\n",
       "      <th>Red_Cards</th>\n",
       "      <th>Accurate_Passes</th>\n",
       "      <th>Inaccurate_Passes</th>\n",
       "    </tr>\n",
       "  </thead>\n",
       "  <tbody>\n",
       "    <tr>\n",
       "      <th>3</th>\n",
       "      <td>Ben Chilwell</td>\n",
       "      <td>Chelsea</td>\n",
       "      <td>ENG</td>\n",
       "      <td>DF</td>\n",
       "      <td>23</td>\n",
       "      <td>27</td>\n",
       "      <td>27</td>\n",
       "      <td>2286</td>\n",
       "      <td>3</td>\n",
       "      <td>5</td>\n",
       "      <td>1806</td>\n",
       "      <td>78.6</td>\n",
       "      <td>0</td>\n",
       "      <td>0</td>\n",
       "      <td>0.10</td>\n",
       "      <td>0.11</td>\n",
       "      <td>3</td>\n",
       "      <td>0</td>\n",
       "      <td>141951.6</td>\n",
       "      <td>38648.4</td>\n",
       "    </tr>\n",
       "    <tr>\n",
       "      <th>4</th>\n",
       "      <td>Reece James</td>\n",
       "      <td>Chelsea</td>\n",
       "      <td>ENG</td>\n",
       "      <td>DF</td>\n",
       "      <td>20</td>\n",
       "      <td>32</td>\n",
       "      <td>25</td>\n",
       "      <td>2373</td>\n",
       "      <td>1</td>\n",
       "      <td>2</td>\n",
       "      <td>1987</td>\n",
       "      <td>85.0</td>\n",
       "      <td>0</td>\n",
       "      <td>0</td>\n",
       "      <td>0.06</td>\n",
       "      <td>0.12</td>\n",
       "      <td>3</td>\n",
       "      <td>0</td>\n",
       "      <td>168895.0</td>\n",
       "      <td>29805.0</td>\n",
       "    </tr>\n",
       "    <tr>\n",
       "      <th>5</th>\n",
       "      <td>César Azpilicueta</td>\n",
       "      <td>Chelsea</td>\n",
       "      <td>ESP</td>\n",
       "      <td>DF</td>\n",
       "      <td>30</td>\n",
       "      <td>26</td>\n",
       "      <td>24</td>\n",
       "      <td>2188</td>\n",
       "      <td>1</td>\n",
       "      <td>2</td>\n",
       "      <td>2015</td>\n",
       "      <td>87.5</td>\n",
       "      <td>0</td>\n",
       "      <td>0</td>\n",
       "      <td>0.03</td>\n",
       "      <td>0.11</td>\n",
       "      <td>5</td>\n",
       "      <td>1</td>\n",
       "      <td>176312.5</td>\n",
       "      <td>25187.5</td>\n",
       "    </tr>\n",
       "    <tr>\n",
       "      <th>8</th>\n",
       "      <td>Thiago Silva</td>\n",
       "      <td>Chelsea</td>\n",
       "      <td>BRA</td>\n",
       "      <td>DF</td>\n",
       "      <td>35</td>\n",
       "      <td>23</td>\n",
       "      <td>23</td>\n",
       "      <td>1935</td>\n",
       "      <td>2</td>\n",
       "      <td>0</td>\n",
       "      <td>1871</td>\n",
       "      <td>93.5</td>\n",
       "      <td>0</td>\n",
       "      <td>0</td>\n",
       "      <td>0.05</td>\n",
       "      <td>0.02</td>\n",
       "      <td>5</td>\n",
       "      <td>1</td>\n",
       "      <td>174938.5</td>\n",
       "      <td>12161.5</td>\n",
       "    </tr>\n",
       "    <tr>\n",
       "      <th>9</th>\n",
       "      <td>Kurt Zouma</td>\n",
       "      <td>Chelsea</td>\n",
       "      <td>FRA</td>\n",
       "      <td>DF</td>\n",
       "      <td>25</td>\n",
       "      <td>24</td>\n",
       "      <td>22</td>\n",
       "      <td>2029</td>\n",
       "      <td>5</td>\n",
       "      <td>0</td>\n",
       "      <td>1720</td>\n",
       "      <td>91.9</td>\n",
       "      <td>0</td>\n",
       "      <td>0</td>\n",
       "      <td>0.08</td>\n",
       "      <td>0.00</td>\n",
       "      <td>3</td>\n",
       "      <td>0</td>\n",
       "      <td>158068.0</td>\n",
       "      <td>13932.0</td>\n",
       "    </tr>\n",
       "  </tbody>\n",
       "</table>\n",
       "</div>"
      ],
      "text/plain": [
       "                Name     Club Nationality Position  Age  Matches  Starts  \\\n",
       "3       Ben Chilwell  Chelsea         ENG       DF   23       27      27   \n",
       "4        Reece James  Chelsea         ENG       DF   20       32      25   \n",
       "5  César Azpilicueta  Chelsea         ESP       DF   30       26      24   \n",
       "8       Thiago Silva  Chelsea         BRA       DF   35       23      23   \n",
       "9         Kurt Zouma  Chelsea         FRA       DF   25       24      22   \n",
       "\n",
       "   Mins  Goals  Assists  Passes_Attempted  Perc_Passes_Completed  \\\n",
       "3  2286      3        5              1806                   78.6   \n",
       "4  2373      1        2              1987                   85.0   \n",
       "5  2188      1        2              2015                   87.5   \n",
       "8  1935      2        0              1871                   93.5   \n",
       "9  2029      5        0              1720                   91.9   \n",
       "\n",
       "   Penalty_Goals  Penalty_Attempted    xG    xA  Yellow_Cards  Red_Cards  \\\n",
       "3              0                  0  0.10  0.11             3          0   \n",
       "4              0                  0  0.06  0.12             3          0   \n",
       "5              0                  0  0.03  0.11             5          1   \n",
       "8              0                  0  0.05  0.02             5          1   \n",
       "9              0                  0  0.08  0.00             3          0   \n",
       "\n",
       "   Accurate_Passes  Inaccurate_Passes  \n",
       "3         141951.6            38648.4  \n",
       "4         168895.0            29805.0  \n",
       "5         176312.5            25187.5  \n",
       "8         174938.5            12161.5  \n",
       "9         158068.0            13932.0  "
      ]
     },
     "execution_count": 10,
     "metadata": {},
     "output_type": "execute_result"
    }
   ],
   "source": [
    "defenders.head()"
   ]
  },
  {
   "cell_type": "code",
   "execution_count": 11,
   "metadata": {},
   "outputs": [
    {
     "data": {
      "text/plain": [
       "(218, 20)"
      ]
     },
     "execution_count": 11,
     "metadata": {},
     "output_type": "execute_result"
    }
   ],
   "source": [
    "defenders.shape"
   ]
  },
  {
   "cell_type": "code",
   "execution_count": 12,
   "metadata": {},
   "outputs": [],
   "source": [
    "midfielders = df.loc[df.Position.str.contains(\"MF\")]"
   ]
  },
  {
   "cell_type": "code",
   "execution_count": 13,
   "metadata": {},
   "outputs": [
    {
     "data": {
      "text/html": [
       "<div>\n",
       "<style scoped>\n",
       "    .dataframe tbody tr th:only-of-type {\n",
       "        vertical-align: middle;\n",
       "    }\n",
       "\n",
       "    .dataframe tbody tr th {\n",
       "        vertical-align: top;\n",
       "    }\n",
       "\n",
       "    .dataframe thead th {\n",
       "        text-align: right;\n",
       "    }\n",
       "</style>\n",
       "<table border=\"1\" class=\"dataframe\">\n",
       "  <thead>\n",
       "    <tr style=\"text-align: right;\">\n",
       "      <th></th>\n",
       "      <th>Name</th>\n",
       "      <th>Club</th>\n",
       "      <th>Nationality</th>\n",
       "      <th>Position</th>\n",
       "      <th>Age</th>\n",
       "      <th>Matches</th>\n",
       "      <th>Starts</th>\n",
       "      <th>Mins</th>\n",
       "      <th>Goals</th>\n",
       "      <th>Assists</th>\n",
       "      <th>Passes_Attempted</th>\n",
       "      <th>Perc_Passes_Completed</th>\n",
       "      <th>Penalty_Goals</th>\n",
       "      <th>Penalty_Attempted</th>\n",
       "      <th>xG</th>\n",
       "      <th>xA</th>\n",
       "      <th>Yellow_Cards</th>\n",
       "      <th>Red_Cards</th>\n",
       "      <th>Accurate_Passes</th>\n",
       "      <th>Inaccurate_Passes</th>\n",
       "    </tr>\n",
       "  </thead>\n",
       "  <tbody>\n",
       "    <tr>\n",
       "      <th>0</th>\n",
       "      <td>Mason Mount</td>\n",
       "      <td>Chelsea</td>\n",
       "      <td>ENG</td>\n",
       "      <td>MF,FW</td>\n",
       "      <td>21</td>\n",
       "      <td>36</td>\n",
       "      <td>32</td>\n",
       "      <td>2890</td>\n",
       "      <td>6</td>\n",
       "      <td>5</td>\n",
       "      <td>1881</td>\n",
       "      <td>82.3</td>\n",
       "      <td>1</td>\n",
       "      <td>1</td>\n",
       "      <td>0.21</td>\n",
       "      <td>0.24</td>\n",
       "      <td>2</td>\n",
       "      <td>0</td>\n",
       "      <td>154806.3</td>\n",
       "      <td>33293.7</td>\n",
       "    </tr>\n",
       "    <tr>\n",
       "      <th>6</th>\n",
       "      <td>N'Golo Kanté</td>\n",
       "      <td>Chelsea</td>\n",
       "      <td>FRA</td>\n",
       "      <td>MF</td>\n",
       "      <td>29</td>\n",
       "      <td>30</td>\n",
       "      <td>24</td>\n",
       "      <td>2146</td>\n",
       "      <td>0</td>\n",
       "      <td>2</td>\n",
       "      <td>1504</td>\n",
       "      <td>86.6</td>\n",
       "      <td>0</td>\n",
       "      <td>0</td>\n",
       "      <td>0.04</td>\n",
       "      <td>0.05</td>\n",
       "      <td>7</td>\n",
       "      <td>0</td>\n",
       "      <td>130246.4</td>\n",
       "      <td>20153.6</td>\n",
       "    </tr>\n",
       "    <tr>\n",
       "      <th>7</th>\n",
       "      <td>Jorginho</td>\n",
       "      <td>Chelsea</td>\n",
       "      <td>ITA</td>\n",
       "      <td>MF</td>\n",
       "      <td>28</td>\n",
       "      <td>28</td>\n",
       "      <td>23</td>\n",
       "      <td>2010</td>\n",
       "      <td>7</td>\n",
       "      <td>1</td>\n",
       "      <td>1739</td>\n",
       "      <td>89.5</td>\n",
       "      <td>7</td>\n",
       "      <td>9</td>\n",
       "      <td>0.31</td>\n",
       "      <td>0.09</td>\n",
       "      <td>2</td>\n",
       "      <td>0</td>\n",
       "      <td>155640.5</td>\n",
       "      <td>18259.5</td>\n",
       "    </tr>\n",
       "    <tr>\n",
       "      <th>10</th>\n",
       "      <td>Mateo Kovačić</td>\n",
       "      <td>Chelsea</td>\n",
       "      <td>CRO</td>\n",
       "      <td>MF</td>\n",
       "      <td>26</td>\n",
       "      <td>27</td>\n",
       "      <td>21</td>\n",
       "      <td>1815</td>\n",
       "      <td>0</td>\n",
       "      <td>1</td>\n",
       "      <td>1737</td>\n",
       "      <td>91.0</td>\n",
       "      <td>0</td>\n",
       "      <td>0</td>\n",
       "      <td>0.05</td>\n",
       "      <td>0.09</td>\n",
       "      <td>4</td>\n",
       "      <td>0</td>\n",
       "      <td>158067.0</td>\n",
       "      <td>15633.0</td>\n",
       "    </tr>\n",
       "    <tr>\n",
       "      <th>12</th>\n",
       "      <td>Christian Pulisic</td>\n",
       "      <td>Chelsea</td>\n",
       "      <td>USA</td>\n",
       "      <td>FW,MF</td>\n",
       "      <td>21</td>\n",
       "      <td>27</td>\n",
       "      <td>18</td>\n",
       "      <td>1738</td>\n",
       "      <td>4</td>\n",
       "      <td>2</td>\n",
       "      <td>690</td>\n",
       "      <td>80.0</td>\n",
       "      <td>0</td>\n",
       "      <td>0</td>\n",
       "      <td>0.28</td>\n",
       "      <td>0.14</td>\n",
       "      <td>2</td>\n",
       "      <td>0</td>\n",
       "      <td>55200.0</td>\n",
       "      <td>13800.0</td>\n",
       "    </tr>\n",
       "  </tbody>\n",
       "</table>\n",
       "</div>"
      ],
      "text/plain": [
       "                 Name     Club Nationality Position  Age  Matches  Starts  \\\n",
       "0         Mason Mount  Chelsea         ENG    MF,FW   21       36      32   \n",
       "6        N'Golo Kanté  Chelsea         FRA       MF   29       30      24   \n",
       "7            Jorginho  Chelsea         ITA       MF   28       28      23   \n",
       "10      Mateo Kovačić  Chelsea         CRO       MF   26       27      21   \n",
       "12  Christian Pulisic  Chelsea         USA    FW,MF   21       27      18   \n",
       "\n",
       "    Mins  Goals  Assists  Passes_Attempted  Perc_Passes_Completed  \\\n",
       "0   2890      6        5              1881                   82.3   \n",
       "6   2146      0        2              1504                   86.6   \n",
       "7   2010      7        1              1739                   89.5   \n",
       "10  1815      0        1              1737                   91.0   \n",
       "12  1738      4        2               690                   80.0   \n",
       "\n",
       "    Penalty_Goals  Penalty_Attempted    xG    xA  Yellow_Cards  Red_Cards  \\\n",
       "0               1                  1  0.21  0.24             2          0   \n",
       "6               0                  0  0.04  0.05             7          0   \n",
       "7               7                  9  0.31  0.09             2          0   \n",
       "10              0                  0  0.05  0.09             4          0   \n",
       "12              0                  0  0.28  0.14             2          0   \n",
       "\n",
       "    Accurate_Passes  Inaccurate_Passes  \n",
       "0          154806.3            33293.7  \n",
       "6          130246.4            20153.6  \n",
       "7          155640.5            18259.5  \n",
       "10         158067.0            15633.0  \n",
       "12          55200.0            13800.0  "
      ]
     },
     "execution_count": 13,
     "metadata": {},
     "output_type": "execute_result"
    }
   ],
   "source": [
    "midfielders.head()"
   ]
  },
  {
   "cell_type": "code",
   "execution_count": 14,
   "metadata": {},
   "outputs": [
    {
     "data": {
      "text/plain": [
       "(219, 20)"
      ]
     },
     "execution_count": 14,
     "metadata": {},
     "output_type": "execute_result"
    }
   ],
   "source": [
    "midfielders.shape"
   ]
  },
  {
   "cell_type": "code",
   "execution_count": 15,
   "metadata": {},
   "outputs": [],
   "source": [
    "forwards = df.loc[df.Position.str.contains(\"FW\")]"
   ]
  },
  {
   "cell_type": "code",
   "execution_count": 16,
   "metadata": {},
   "outputs": [
    {
     "data": {
      "text/html": [
       "<div>\n",
       "<style scoped>\n",
       "    .dataframe tbody tr th:only-of-type {\n",
       "        vertical-align: middle;\n",
       "    }\n",
       "\n",
       "    .dataframe tbody tr th {\n",
       "        vertical-align: top;\n",
       "    }\n",
       "\n",
       "    .dataframe thead th {\n",
       "        text-align: right;\n",
       "    }\n",
       "</style>\n",
       "<table border=\"1\" class=\"dataframe\">\n",
       "  <thead>\n",
       "    <tr style=\"text-align: right;\">\n",
       "      <th></th>\n",
       "      <th>Name</th>\n",
       "      <th>Club</th>\n",
       "      <th>Nationality</th>\n",
       "      <th>Position</th>\n",
       "      <th>Age</th>\n",
       "      <th>Matches</th>\n",
       "      <th>Starts</th>\n",
       "      <th>Mins</th>\n",
       "      <th>Goals</th>\n",
       "      <th>Assists</th>\n",
       "      <th>Passes_Attempted</th>\n",
       "      <th>Perc_Passes_Completed</th>\n",
       "      <th>Penalty_Goals</th>\n",
       "      <th>Penalty_Attempted</th>\n",
       "      <th>xG</th>\n",
       "      <th>xA</th>\n",
       "      <th>Yellow_Cards</th>\n",
       "      <th>Red_Cards</th>\n",
       "      <th>Accurate_Passes</th>\n",
       "      <th>Inaccurate_Passes</th>\n",
       "    </tr>\n",
       "  </thead>\n",
       "  <tbody>\n",
       "    <tr>\n",
       "      <th>0</th>\n",
       "      <td>Mason Mount</td>\n",
       "      <td>Chelsea</td>\n",
       "      <td>ENG</td>\n",
       "      <td>MF,FW</td>\n",
       "      <td>21</td>\n",
       "      <td>36</td>\n",
       "      <td>32</td>\n",
       "      <td>2890</td>\n",
       "      <td>6</td>\n",
       "      <td>5</td>\n",
       "      <td>1881</td>\n",
       "      <td>82.3</td>\n",
       "      <td>1</td>\n",
       "      <td>1</td>\n",
       "      <td>0.21</td>\n",
       "      <td>0.24</td>\n",
       "      <td>2</td>\n",
       "      <td>0</td>\n",
       "      <td>154806.3</td>\n",
       "      <td>33293.7</td>\n",
       "    </tr>\n",
       "    <tr>\n",
       "      <th>2</th>\n",
       "      <td>Timo Werner</td>\n",
       "      <td>Chelsea</td>\n",
       "      <td>GER</td>\n",
       "      <td>FW</td>\n",
       "      <td>24</td>\n",
       "      <td>35</td>\n",
       "      <td>29</td>\n",
       "      <td>2602</td>\n",
       "      <td>6</td>\n",
       "      <td>8</td>\n",
       "      <td>826</td>\n",
       "      <td>77.2</td>\n",
       "      <td>0</td>\n",
       "      <td>0</td>\n",
       "      <td>0.41</td>\n",
       "      <td>0.21</td>\n",
       "      <td>2</td>\n",
       "      <td>0</td>\n",
       "      <td>63767.2</td>\n",
       "      <td>18832.8</td>\n",
       "    </tr>\n",
       "    <tr>\n",
       "      <th>12</th>\n",
       "      <td>Christian Pulisic</td>\n",
       "      <td>Chelsea</td>\n",
       "      <td>USA</td>\n",
       "      <td>FW,MF</td>\n",
       "      <td>21</td>\n",
       "      <td>27</td>\n",
       "      <td>18</td>\n",
       "      <td>1738</td>\n",
       "      <td>4</td>\n",
       "      <td>2</td>\n",
       "      <td>690</td>\n",
       "      <td>80.0</td>\n",
       "      <td>0</td>\n",
       "      <td>0</td>\n",
       "      <td>0.28</td>\n",
       "      <td>0.14</td>\n",
       "      <td>2</td>\n",
       "      <td>0</td>\n",
       "      <td>55200.0</td>\n",
       "      <td>13800.0</td>\n",
       "    </tr>\n",
       "    <tr>\n",
       "      <th>13</th>\n",
       "      <td>Kai Havertz</td>\n",
       "      <td>Chelsea</td>\n",
       "      <td>GER</td>\n",
       "      <td>MF,FW</td>\n",
       "      <td>21</td>\n",
       "      <td>27</td>\n",
       "      <td>18</td>\n",
       "      <td>1520</td>\n",
       "      <td>4</td>\n",
       "      <td>3</td>\n",
       "      <td>765</td>\n",
       "      <td>86.1</td>\n",
       "      <td>0</td>\n",
       "      <td>0</td>\n",
       "      <td>0.37</td>\n",
       "      <td>0.09</td>\n",
       "      <td>2</td>\n",
       "      <td>0</td>\n",
       "      <td>65866.5</td>\n",
       "      <td>10633.5</td>\n",
       "    </tr>\n",
       "    <tr>\n",
       "      <th>15</th>\n",
       "      <td>Hakim Ziyech</td>\n",
       "      <td>Chelsea</td>\n",
       "      <td>MAR</td>\n",
       "      <td>FW,MF</td>\n",
       "      <td>27</td>\n",
       "      <td>23</td>\n",
       "      <td>15</td>\n",
       "      <td>1172</td>\n",
       "      <td>2</td>\n",
       "      <td>3</td>\n",
       "      <td>734</td>\n",
       "      <td>74.7</td>\n",
       "      <td>0</td>\n",
       "      <td>0</td>\n",
       "      <td>0.15</td>\n",
       "      <td>0.28</td>\n",
       "      <td>3</td>\n",
       "      <td>0</td>\n",
       "      <td>54829.8</td>\n",
       "      <td>18570.2</td>\n",
       "    </tr>\n",
       "  </tbody>\n",
       "</table>\n",
       "</div>"
      ],
      "text/plain": [
       "                 Name     Club Nationality Position  Age  Matches  Starts  \\\n",
       "0         Mason Mount  Chelsea         ENG    MF,FW   21       36      32   \n",
       "2         Timo Werner  Chelsea         GER       FW   24       35      29   \n",
       "12  Christian Pulisic  Chelsea         USA    FW,MF   21       27      18   \n",
       "13        Kai Havertz  Chelsea         GER    MF,FW   21       27      18   \n",
       "15       Hakim Ziyech  Chelsea         MAR    FW,MF   27       23      15   \n",
       "\n",
       "    Mins  Goals  Assists  Passes_Attempted  Perc_Passes_Completed  \\\n",
       "0   2890      6        5              1881                   82.3   \n",
       "2   2602      6        8               826                   77.2   \n",
       "12  1738      4        2               690                   80.0   \n",
       "13  1520      4        3               765                   86.1   \n",
       "15  1172      2        3               734                   74.7   \n",
       "\n",
       "    Penalty_Goals  Penalty_Attempted    xG    xA  Yellow_Cards  Red_Cards  \\\n",
       "0               1                  1  0.21  0.24             2          0   \n",
       "2               0                  0  0.41  0.21             2          0   \n",
       "12              0                  0  0.28  0.14             2          0   \n",
       "13              0                  0  0.37  0.09             2          0   \n",
       "15              0                  0  0.15  0.28             3          0   \n",
       "\n",
       "    Accurate_Passes  Inaccurate_Passes  \n",
       "0          154806.3            33293.7  \n",
       "2           63767.2            18832.8  \n",
       "12          55200.0            13800.0  \n",
       "13          65866.5            10633.5  \n",
       "15          54829.8            18570.2  "
      ]
     },
     "execution_count": 16,
     "metadata": {},
     "output_type": "execute_result"
    }
   ],
   "source": [
    "forwards.head()"
   ]
  },
  {
   "cell_type": "code",
   "execution_count": 17,
   "metadata": {},
   "outputs": [
    {
     "data": {
      "text/plain": [
       "(176, 20)"
      ]
     },
     "execution_count": 17,
     "metadata": {},
     "output_type": "execute_result"
    }
   ],
   "source": [
    "forwards.shape"
   ]
  },
  {
   "cell_type": "code",
   "execution_count": 18,
   "metadata": {},
   "outputs": [],
   "source": [
    "goalkeepers = df.loc[df.Position.str.contains(\"GK\")]"
   ]
  },
  {
   "cell_type": "code",
   "execution_count": 19,
   "metadata": {},
   "outputs": [
    {
     "data": {
      "text/html": [
       "<div>\n",
       "<style scoped>\n",
       "    .dataframe tbody tr th:only-of-type {\n",
       "        vertical-align: middle;\n",
       "    }\n",
       "\n",
       "    .dataframe tbody tr th {\n",
       "        vertical-align: top;\n",
       "    }\n",
       "\n",
       "    .dataframe thead th {\n",
       "        text-align: right;\n",
       "    }\n",
       "</style>\n",
       "<table border=\"1\" class=\"dataframe\">\n",
       "  <thead>\n",
       "    <tr style=\"text-align: right;\">\n",
       "      <th></th>\n",
       "      <th>Name</th>\n",
       "      <th>Club</th>\n",
       "      <th>Nationality</th>\n",
       "      <th>Position</th>\n",
       "      <th>Age</th>\n",
       "      <th>Matches</th>\n",
       "      <th>Starts</th>\n",
       "      <th>Mins</th>\n",
       "      <th>Goals</th>\n",
       "      <th>Assists</th>\n",
       "      <th>Passes_Attempted</th>\n",
       "      <th>Perc_Passes_Completed</th>\n",
       "      <th>Penalty_Goals</th>\n",
       "      <th>Penalty_Attempted</th>\n",
       "      <th>xG</th>\n",
       "      <th>xA</th>\n",
       "      <th>Yellow_Cards</th>\n",
       "      <th>Red_Cards</th>\n",
       "      <th>Accurate_Passes</th>\n",
       "      <th>Inaccurate_Passes</th>\n",
       "    </tr>\n",
       "  </thead>\n",
       "  <tbody>\n",
       "    <tr>\n",
       "      <th>1</th>\n",
       "      <td>Edouard Mendy</td>\n",
       "      <td>Chelsea</td>\n",
       "      <td>SEN</td>\n",
       "      <td>GK</td>\n",
       "      <td>28</td>\n",
       "      <td>31</td>\n",
       "      <td>31</td>\n",
       "      <td>2745</td>\n",
       "      <td>0</td>\n",
       "      <td>0</td>\n",
       "      <td>1007</td>\n",
       "      <td>84.6</td>\n",
       "      <td>0</td>\n",
       "      <td>0</td>\n",
       "      <td>0.0</td>\n",
       "      <td>0.00</td>\n",
       "      <td>2</td>\n",
       "      <td>0</td>\n",
       "      <td>85192.2</td>\n",
       "      <td>15507.8</td>\n",
       "    </tr>\n",
       "    <tr>\n",
       "      <th>20</th>\n",
       "      <td>Kepa Arrizabalaga</td>\n",
       "      <td>Chelsea</td>\n",
       "      <td>ESP</td>\n",
       "      <td>GK</td>\n",
       "      <td>25</td>\n",
       "      <td>7</td>\n",
       "      <td>6</td>\n",
       "      <td>585</td>\n",
       "      <td>0</td>\n",
       "      <td>0</td>\n",
       "      <td>243</td>\n",
       "      <td>81.5</td>\n",
       "      <td>0</td>\n",
       "      <td>0</td>\n",
       "      <td>0.0</td>\n",
       "      <td>0.00</td>\n",
       "      <td>1</td>\n",
       "      <td>0</td>\n",
       "      <td>19804.5</td>\n",
       "      <td>4495.5</td>\n",
       "    </tr>\n",
       "    <tr>\n",
       "      <th>22</th>\n",
       "      <td>Willy Caballero</td>\n",
       "      <td>Chelsea</td>\n",
       "      <td>ARG</td>\n",
       "      <td>GK</td>\n",
       "      <td>38</td>\n",
       "      <td>1</td>\n",
       "      <td>1</td>\n",
       "      <td>90</td>\n",
       "      <td>0</td>\n",
       "      <td>0</td>\n",
       "      <td>26</td>\n",
       "      <td>92.3</td>\n",
       "      <td>0</td>\n",
       "      <td>0</td>\n",
       "      <td>0.0</td>\n",
       "      <td>0.00</td>\n",
       "      <td>0</td>\n",
       "      <td>0</td>\n",
       "      <td>2399.8</td>\n",
       "      <td>200.2</td>\n",
       "    </tr>\n",
       "    <tr>\n",
       "      <th>27</th>\n",
       "      <td>Ederson</td>\n",
       "      <td>Manchester City</td>\n",
       "      <td>BRA</td>\n",
       "      <td>GK</td>\n",
       "      <td>26</td>\n",
       "      <td>36</td>\n",
       "      <td>36</td>\n",
       "      <td>3240</td>\n",
       "      <td>0</td>\n",
       "      <td>1</td>\n",
       "      <td>1090</td>\n",
       "      <td>83.1</td>\n",
       "      <td>0</td>\n",
       "      <td>0</td>\n",
       "      <td>0.0</td>\n",
       "      <td>0.01</td>\n",
       "      <td>3</td>\n",
       "      <td>0</td>\n",
       "      <td>90579.0</td>\n",
       "      <td>18421.0</td>\n",
       "    </tr>\n",
       "    <tr>\n",
       "      <th>48</th>\n",
       "      <td>Scott Carson</td>\n",
       "      <td>Manchester City</td>\n",
       "      <td>ENG</td>\n",
       "      <td>GK</td>\n",
       "      <td>34</td>\n",
       "      <td>1</td>\n",
       "      <td>1</td>\n",
       "      <td>90</td>\n",
       "      <td>0</td>\n",
       "      <td>0</td>\n",
       "      <td>16</td>\n",
       "      <td>93.8</td>\n",
       "      <td>0</td>\n",
       "      <td>0</td>\n",
       "      <td>0.0</td>\n",
       "      <td>0.00</td>\n",
       "      <td>0</td>\n",
       "      <td>0</td>\n",
       "      <td>1500.8</td>\n",
       "      <td>99.2</td>\n",
       "    </tr>\n",
       "  </tbody>\n",
       "</table>\n",
       "</div>"
      ],
      "text/plain": [
       "                 Name             Club Nationality Position  Age  Matches  \\\n",
       "1       Edouard Mendy          Chelsea         SEN       GK   28       31   \n",
       "20  Kepa Arrizabalaga          Chelsea         ESP       GK   25        7   \n",
       "22    Willy Caballero          Chelsea         ARG       GK   38        1   \n",
       "27            Ederson  Manchester City         BRA       GK   26       36   \n",
       "48       Scott Carson  Manchester City         ENG       GK   34        1   \n",
       "\n",
       "    Starts  Mins  Goals  Assists  Passes_Attempted  Perc_Passes_Completed  \\\n",
       "1       31  2745      0        0              1007                   84.6   \n",
       "20       6   585      0        0               243                   81.5   \n",
       "22       1    90      0        0                26                   92.3   \n",
       "27      36  3240      0        1              1090                   83.1   \n",
       "48       1    90      0        0                16                   93.8   \n",
       "\n",
       "    Penalty_Goals  Penalty_Attempted   xG    xA  Yellow_Cards  Red_Cards  \\\n",
       "1               0                  0  0.0  0.00             2          0   \n",
       "20              0                  0  0.0  0.00             1          0   \n",
       "22              0                  0  0.0  0.00             0          0   \n",
       "27              0                  0  0.0  0.01             3          0   \n",
       "48              0                  0  0.0  0.00             0          0   \n",
       "\n",
       "    Accurate_Passes  Inaccurate_Passes  \n",
       "1           85192.2            15507.8  \n",
       "20          19804.5             4495.5  \n",
       "22           2399.8              200.2  \n",
       "27          90579.0            18421.0  \n",
       "48           1500.8               99.2  "
      ]
     },
     "execution_count": 19,
     "metadata": {},
     "output_type": "execute_result"
    }
   ],
   "source": [
    "goalkeepers.head()"
   ]
  },
  {
   "cell_type": "code",
   "execution_count": 20,
   "metadata": {},
   "outputs": [
    {
     "data": {
      "text/plain": [
       "(42, 20)"
      ]
     },
     "execution_count": 20,
     "metadata": {},
     "output_type": "execute_result"
    }
   ],
   "source": [
    "goalkeepers.shape"
   ]
  },
  {
   "cell_type": "markdown",
   "metadata": {},
   "source": [
    "## Checking number of versatile players"
   ]
  },
  {
   "cell_type": "code",
   "execution_count": 21,
   "metadata": {},
   "outputs": [
    {
     "data": {
      "text/plain": [
       "(6, 20)"
      ]
     },
     "execution_count": 21,
     "metadata": {},
     "output_type": "execute_result"
    }
   ],
   "source": [
    "df.loc[df.Position.str.contains(\"FW,DF\")].shape"
   ]
  },
  {
   "cell_type": "code",
   "execution_count": 22,
   "metadata": {},
   "outputs": [
    {
     "data": {
      "text/plain": [
       "(36, 20)"
      ]
     },
     "execution_count": 22,
     "metadata": {},
     "output_type": "execute_result"
    }
   ],
   "source": [
    "df.loc[df.Position.str.contains(\"MF,FW\")].shape"
   ]
  },
  {
   "cell_type": "code",
   "execution_count": 23,
   "metadata": {},
   "outputs": [
    {
     "data": {
      "text/plain": [
       "(47, 20)"
      ]
     },
     "execution_count": 23,
     "metadata": {},
     "output_type": "execute_result"
    }
   ],
   "source": [
    "df.loc[df.Position.str.contains(\"FW,MF\")].shape"
   ]
  },
  {
   "cell_type": "code",
   "execution_count": 24,
   "metadata": {},
   "outputs": [
    {
     "data": {
      "text/plain": [
       "(15, 20)"
      ]
     },
     "execution_count": 24,
     "metadata": {},
     "output_type": "execute_result"
    }
   ],
   "source": [
    "df.loc[df.Position.str.contains(\"DF,MF\")].shape"
   ]
  },
  {
   "cell_type": "code",
   "execution_count": 25,
   "metadata": {},
   "outputs": [
    {
     "data": {
      "text/plain": [
       "(13, 20)"
      ]
     },
     "execution_count": 25,
     "metadata": {},
     "output_type": "execute_result"
    }
   ],
   "source": [
    "df.loc[df.Position.str.contains(\"MF,DF\")].shape"
   ]
  },
  {
   "cell_type": "code",
   "execution_count": 26,
   "metadata": {},
   "outputs": [
    {
     "data": {
      "text/plain": [
       "(6, 20)"
      ]
     },
     "execution_count": 26,
     "metadata": {},
     "output_type": "execute_result"
    }
   ],
   "source": [
    "df.loc[df.Position.str.contains(\"DF,FW\")].shape"
   ]
  },
  {
   "cell_type": "markdown",
   "metadata": {},
   "source": [
    "## Performance scoring"
   ]
  },
  {
   "cell_type": "code",
   "execution_count": 27,
   "metadata": {},
   "outputs": [
    {
     "name": "stdout",
     "output_type": "stream",
     "text": [
      "                     Name                     Club  Playmaker_Score\n",
      "51        Bruno Fernandes        Manchester United        22.799123\n",
      "34        Kevin De Bruyne          Manchester City        16.944211\n",
      "273         Jack Grealish              Aston Villa        13.833552\n",
      "216         Jack Harrison             Leeds United        13.049105\n",
      "220  Raphael Dias Belloli             Leeds United        13.034335\n",
      "366     James Ward-Prowse              Southampton        12.569448\n",
      "478       Matheus Pereira     West Bromwich Albion        12.206250\n",
      "401           Pascal Groß                 Brighton        10.781225\n",
      "39             Phil Foden          Manchester City        10.724216\n",
      "33         İlkay Gündoğan          Manchester City        10.334663\n",
      "141          Jarrod Bowen          West Ham United         9.908499\n",
      "115        James Maddison           Leicester City         9.867634\n",
      "0             Mason Mount                  Chelsea         9.650883\n",
      "319            Pedro Neto  Wolverhampton Wanderers         9.404539\n",
      "117         Harvey Barnes           Leicester City         9.298178\n",
      "145         Jesse Lingard          West Ham United         9.107068\n",
      "243      Gylfi Sigurðsson                  Everton         8.984932\n",
      "345          Eberechi Eze           Crystal Palace         8.701496\n",
      "398      Leandro Trossard                 Brighton         8.404596\n",
      "109       Youri Tielemans           Leicester City         8.351609\n",
      "                        Name                     Club Nationality Position  \\\n",
      "339          Patrick Cutrone  Wolverhampton Wanderers         ITA    FW,MF   \n",
      "284       Carney Chukwuemeka              Aston Villa         ENG    FW,MF   \n",
      "419           José Izquierdo                 Brighton         COL    DF,MF   \n",
      "417                Percy Tau                 Brighton         RSA    FW,MF   \n",
      "129             Cengiz Ünder           Leicester City         TUR    MF,FW   \n",
      "282          Conor Hourihane              Aston Villa         IRL       MF   \n",
      "34           Kevin De Bruyne          Manchester City         BEL       MF   \n",
      "498           Kamil Grosicki     West Bromwich Albion         POL    FW,MF   \n",
      "283             Keinan Davis              Aston Villa         ENG    FW,MF   \n",
      "26              Ross Barkley                  Chelsea         ENG       MF   \n",
      "51           Bruno Fernandes        Manchester United         POR       MF   \n",
      "104  Alex Oxlade-Chamberlain             Liverpool FC         ENG    FW,MF   \n",
      "46             Sergio Agüero          Manchester City         ARG    FW,MF   \n",
      "336            Owen Otasowie  Wolverhampton Wanderers         USA    MF,FW   \n",
      "285            Wesley Moraes              Aston Villa         BRA    MF,FW   \n",
      "39                Phil Foden          Manchester City         ENG    FW,MF   \n",
      "145            Jesse Lingard          West Ham United         ENG    MF,FW   \n",
      "273            Jack Grealish              Aston Villa         ENG    FW,MF   \n",
      "69                 Juan Mata        Manchester United         ESP    FW,MF   \n",
      "229          Pablo Hernández             Leeds United         ESP       MF   \n",
      "\n",
      "     Age  Matches  Playmaker_Score  Time_Weighted_Playmaker_Score  \n",
      "339   22        2         0.612983                      24.519323  \n",
      "284   16        2         0.294311                      14.715568  \n",
      "419   28        1         0.126053                      14.005874  \n",
      "417   26        3         1.423483                      13.820225  \n",
      "129   23        9         3.015091                      10.729862  \n",
      "282   29        4         2.279552                      10.131344  \n",
      "34    29       25        16.944211                       8.484833  \n",
      "498   32        3         1.193954                       8.067259  \n",
      "283   22       15         2.130021                       7.689608  \n",
      "26    26        2         0.317634                       7.562724  \n",
      "51    25       37        22.799123                       7.356929  \n",
      "104   26       13         1.838997                       7.268762  \n",
      "46    32       12         3.971919                       7.105401  \n",
      "336   19        6         1.314488                       7.029348  \n",
      "285   23        3         0.122703                       6.816811  \n",
      "39    20       28        10.724216                       6.636272  \n",
      "145   27       16         9.107068                       6.408915  \n",
      "273   24       26        13.833552                       6.331145  \n",
      "69    32        9         3.117326                       6.124412  \n",
      "229   35       16         2.610545                       6.113689  \n"
     ]
    }
   ],
   "source": [
    "playmaker.best_playmaker_score(midfielders)"
   ]
  }
 ],
 "metadata": {
  "kernelspec": {
   "display_name": "Python 3",
   "language": "python",
   "name": "python3"
  },
  "language_info": {
   "codemirror_mode": {
    "name": "ipython",
    "version": 3
   },
   "file_extension": ".py",
   "mimetype": "text/x-python",
   "name": "python",
   "nbconvert_exporter": "python",
   "pygments_lexer": "ipython3",
   "version": "3.11.0"
  }
 },
 "nbformat": 4,
 "nbformat_minor": 2
}
